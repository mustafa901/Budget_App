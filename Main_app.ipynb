import pandas as pd
import pdfplumber

# Initialize a DataFrame to store transaction data
columns = ['Date', 'Description', 'Amount', 'Type']
transactions = pd.DataFrame(columns=columns)

# Function to extract data from a PDF and save as a CSV
def pdf_to_csv(pdf_path, csv_path):
    with pdfplumber.open(pdf_path) as pdf:
        rows = []
        for page in pdf.pages:
            text = page.extract_text()
            lines = text.split("\n")
            for line in lines:
                # Attempt to extract date, description, and amount from each line
                # Customize this part based on your PDF structure
                parts = line.split()
                if len(parts) >= 3 and parts[0].isdigit():
                    try:
                        date = parts[0]
                        amount = float(parts[-1].replace("$", "").replace(",", ""))
                        description = " ".join(parts[1:-1])
                        type_ = 'Deposit' if amount > 0 else 'Withdrawal'
                        rows.append([date, description, abs(amount), type_])
                    except ValueError:
                        pass
        
        # Create a DataFrame and save it to a CSV file
        df = pd.DataFrame(rows, columns=columns)
        df.to_csv(csv_path, index=False)
        print(f"Data extracted and saved to {csv_path}")

# Function to categorize transactions
def categorize(description):
    if any(keyword in description.lower() for keyword in ['zelle', 'venmo', 'refund']):
        return 'Deposit'
    elif any(keyword in description.lower() for keyword in ['uber', 'gas']):
        return 'Transportation'
    elif any(keyword in description.lower() for keyword in ['vending', 'restaurant', 'grocery', 'food']):
        return 'Food & Beverages'
    elif any(keyword in description.lower() for keyword in ['apple', 'microsoft', 'rocket money']):
        return 'Subscription'
    else:
        return 'Other'

# Function to add transactions from a CSV file
def add_transactions_from_csv(csv_path):
    global transactions
    data = pd.read_csv(csv_path)
    data['Category'] = data['Description'].apply(categorize)
    transactions = pd.concat([transactions, data], ignore_index=True)

# Function to summarize analytics
def summarize():
    print("\nCategory Summary:")
    print(transactions.groupby(['Category'])['Amount'].sum())
    print("\nSpending Trends by Date:")
    print(transactions.groupby(['Date'])['Amount'].sum())

# Example usage
# Convert PDF to CSV
pdf_to_csv('September_Statements.pdf', 'September_Statements.csv')

# Add transactions from the CSV
add_transactions_from_csv('September_Statements.csv')

# Display analytics
summarize()
